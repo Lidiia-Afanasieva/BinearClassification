{
  "nbformat": 4,
  "nbformat_minor": 0,
  "metadata": {
    "colab": {
      "name": "BinearClassification.ipynb",
      "provenance": [],
      "collapsed_sections": [],
      "mount_file_id": "1EztnvWNiVH8PV-1mfNOoFy_p_IEGwbBZ",
      "authorship_tag": "ABX9TyN0z9o94r8GiICdCZ1Wu21m",
      "include_colab_link": true
    },
    "kernelspec": {
      "name": "python3",
      "display_name": "Python 3"
    },
    "language_info": {
      "name": "python"
    }
  },
  "cells": [
    {
      "cell_type": "markdown",
      "metadata": {
        "id": "view-in-github",
        "colab_type": "text"
      },
      "source": [
        "<a href=\"https://colab.research.google.com/github/Lidiia-Afanasieva/BinearClassification/blob/main/BinearClassification.ipynb\" target=\"_parent\"><img src=\"https://colab.research.google.com/assets/colab-badge.svg\" alt=\"Open In Colab\"/></a>"
      ]
    },
    {
      "cell_type": "code",
      "source": [
        "# TensorFlow and tf.keras\n",
        "import tensorflow as tf\n",
        "from PIL import Image\n",
        "import os\n",
        "import seaborn as sns\n",
        "import random\n",
        "\n",
        "# Helper libraries\n",
        "from IPython.core.pylabtools import figsize\n",
        "from tensorflow.keras.utils import to_categorical\n",
        "import numpy as np\n",
        "import matplotlib.pyplot as plt\n",
        "import cv2\n",
        "import pandas as pd"
      ],
      "metadata": {
        "id": "GX9AnJU9FMc0"
      },
      "execution_count": 3,
      "outputs": []
    },
    {
      "cell_type": "code",
      "source": [
        "from google.colab import drive\n",
        "drive.mount('/content/drive')"
      ],
      "metadata": {
        "id": "ngCeePY8Pw-0"
      },
      "execution_count": null,
      "outputs": []
    },
    {
      "cell_type": "code",
      "source": [
        "# FOR DATAS ABOUT CURRENT DIRECTORY\n",
        "\n",
        "os.getcwd()  # return name of current directory\n",
        "len(os.listdir())  # return list of files in directory"
      ],
      "metadata": {
        "id": "N0yKLKykyaGd"
      },
      "execution_count": null,
      "outputs": []
    },
    {
      "cell_type": "code",
      "source": [
        "# TEST\n",
        "\n",
        "files = []\n",
        "for i in range(1):\n",
        "    files=[i for i in os.listdir() if os.path.isfile(i)]\n",
        "    print(files)\n",
        "    # Get the MD5 hash for each -- use a for loop to process each file\n",
        "    # for file_name in files:\n",
        "\n",
        "for i, j in enumerate(files[:100]):\n",
        "    img = plt.imread('/content/drive/MyDrive/Test-Huckleberry' + j)\n",
        "    plt.subplot(10,10,i+1)\n",
        "    # plt.figure(figsize=(50,50))/\n",
        "    plt.title(j.split('.')[0])\n",
        "    plt.axis('off')\n",
        "    plt.imshow(img)"
      ],
      "metadata": {
        "id": "C3eSVXrIJwaD"
      },
      "execution_count": null,
      "outputs": []
    },
    {
      "cell_type": "code",
      "source": [
        "# TO SHOW IMAGES PAIR\n",
        "\n",
        "def magick(bluuuuaaa, ananasaaaa):\n",
        "    global classes\n",
        "    \n",
        "    plt.figure(figsize=(8,8))\n",
        "\n",
        "    for j, i in enumerate([bluuuuaaa, ananasaaaa]):\n",
        "        plt.subplot(1, 2, j + 1)\n",
        "        plt.title(classes[i[1]])\n",
        "        plt.imshow(i[0])\n",
        "        plt.axis('off')\n"
      ],
      "metadata": {
        "id": "k3HRU6Lv4hNB"
      },
      "execution_count": 4,
      "outputs": []
    },
    {
      "cell_type": "code",
      "source": [
        "# TO DOWNLOAD DATASET\n",
        "\n",
        "def download_set(data_path, class_name):\n",
        "    only_img_list = []\n",
        "\n",
        "    for img in os.listdir(data_path):\n",
        "        img_arr =  cv2.imread(os.path.join(data_path, img))\n",
        "        img_arr = cv2.cvtColor(img_arr, cv2.COLOR_BGR2RGB)\n",
        "        only_img_list.append(img_arr)\n",
        "\n",
        "    return only_img_list"
      ],
      "metadata": {
        "id": "9YC84rCj-A4w"
      },
      "execution_count": 5,
      "outputs": []
    },
    {
      "cell_type": "code",
      "source": [
        "# FULL DATASET\n",
        "\n",
        "train_prickle_dir = \"/content/drive/MyDrive/Training-Pineapple\"  # 490 but 492\n",
        "train_huck_dir = \"/content/drive/MyDrive/Training-Huckleberry\"  # 492 but 490\n",
        "test_prickle_dir = \"/content/drive/MyDrive/Test-Pineapple\"  # 166\n",
        "test_huck_dir = \"/content/drive/MyDrive/Test-Huckleberry\"  # 166\n",
        "\n",
        "directory = [train_prickle_dir, train_huck_dir, test_prickle_dir, test_huck_dir]\n",
        "\n",
        "classes = ['Blue_one', 'Prickly_one']\n",
        "\n",
        "train_base = []\n",
        "test_base = []\n",
        "temp_arr = []\n",
        "\n",
        "only_img_list_tr = []\n",
        "only_img_list_tt = []\n",
        "\n",
        "for d_set_path in directory[:2]:\n",
        "    print(d_set_path)\n",
        "    os.chdir(d_set_path)\n",
        "    current_class = 0 if 'Huckleberry' in d_set_path else 1\n",
        "    only_img_list_tr.extend(download_set(os.getcwd(), current_class))\n",
        "    temp_arr = download_set(os.getcwd(), current_class)\n",
        "    print(len(temp_arr), current_class)\n",
        "    train_base.extend([[i, current_class] for i in temp_arr])\n",
        "\n",
        "for d_set_path in directory[2:]:\n",
        "    os.chdir(d_set_path)\n",
        "    current_class = 0 if 'Huckleberry' in d_set_path else 1\n",
        "    only_img_list_tt.extend(download_set(os.getcwd(), current_class))\n",
        "    temp_arr = download_set(os.getcwd(), current_class)\n",
        "    test_base.extend([[i, current_class] for i in temp_arr])\n",
        "\n",
        "magick(train_base[500], train_base[0])"
      ],
      "metadata": {
        "id": "sQm-ALBTzeDu"
      },
      "execution_count": null,
      "outputs": []
    },
    {
      "cell_type": "code",
      "source": [
        "# BUILDING A RIGHT ARRAY MODE\n",
        "\n",
        "random.shuffle(train_base)\n",
        "random.shuffle(test_base)\n",
        "\n",
        "img_size = 100\n",
        "\n",
        "x_train = []\n",
        "y_train = []\n",
        "\n",
        "x_test = []\n",
        "y_test = []\n",
        "\n",
        "for img, cls in train_base:\n",
        "    x_train.append(img)\n",
        "    y_train.append(cls)\n",
        "x_train = np.array(x_train)\n",
        "\n",
        "for img, cls in test_base:\n",
        "    x_test.append(img)\n",
        "    y_test.append(cls)\n",
        "x_test = np.array(x_test)\n",
        "\n",
        "x_train = x_train.reshape(-1, img_size, img_size, 3)\n",
        "x_train = x_train/255\n",
        "\n",
        "x_test = x_test.reshape(-1, img_size, img_size, 3)\n",
        "x_test = x_test/255\n",
        "\n",
        "print(f'x_train shape is : {x_train.shape}')\n",
        "print(f'x_test shape is : {x_test.shape}')\n",
        "\n",
        "print(f'y_train shape is : {y_train}')\n",
        "from tensorflow.keras.utils import to_categorical\n",
        "\n",
        "y_train = to_categorical(y_train, num_classes=2)\n",
        "print(f'y_train shape is : {y_train.shape}')\n",
        "\n",
        "y_test = to_categorical(y_test, num_classes = 2)"
      ],
      "metadata": {
        "id": "aC7mlo45rTLj"
      },
      "execution_count": null,
      "outputs": []
    },
    {
      "cell_type": "markdown",
      "source": [
        ""
      ],
      "metadata": {
        "id": "1yr-iHpEGHvw"
      }
    },
    {
      "cell_type": "code",
      "source": [
        "# THE COOOOLEST CODE IN THE WORLD\n",
        "# COUSE ITS WORKING\n",
        "# ACTUALLY ITS BUILD NN ARCHITECTURE AND OPTIMISE IT WITH ADAM\n",
        "\n",
        "from sklearn.metrics import confusion_matrix\n",
        "import itertools\n",
        "from sklearn.model_selection import train_test_split\n",
        "x_train, x_val, y_train, y_val = train_test_split(x_train, y_train, test_size=0.2, random_state=42, shuffle=True)\n",
        "print(f'x_train is : {len(x_train)}')\n",
        "print(f'x_val is : {len(x_val)}')\n",
        "print(f'y_train is : {len(y_train)}')\n",
        "print(f'y_val is : {len(y_val)}')\n",
        "\n",
        "from keras.utils.np_utils import to_categorical\n",
        "from keras.models import Sequential \n",
        "from keras.layers import Dense, Dropout, Flatten, Conv2D, MaxPool2D, Activation\n",
        "from tensorflow.keras.optimizers import Adam\n",
        "from keras.preprocessing.image import ImageDataGenerator\n",
        "from keras.callbacks import ReduceLROnPlateau\n",
        "\n",
        "model = Sequential()\n",
        "\n",
        "model.add(Conv2D(filters=16, kernel_size=(3,3), padding='Same', activation='relu', input_shape=(100,100,3)))\n",
        "model.add(MaxPool2D(pool_size=(2,2)))\n",
        "model.add(Flatten())\n",
        "model.add(Dense(128, activation='relu'))\n",
        "model.add(Dense(2, activation='softmax'))\n",
        "\n",
        "optimizer=Adam(learning_rate=0.001)\n",
        "model.compile(optimizer=optimizer, loss='categorical_crossentropy', metrics=['accuracy'])\n",
        "epochs = 10\n",
        "batch_size = 32\n",
        "datagen = ImageDataGenerator(featurewise_center=False, \n",
        "                             samplewise_center=False, \n",
        "                             featurewise_std_normalization=False, \n",
        "                             samplewise_std_normalization=False, \n",
        "                             zca_whitening=False, \n",
        "                             zca_epsilon=0.000001, \n",
        "                             rotation_range=0.5, \n",
        "                             width_shift_range=0, \n",
        "                             height_shift_range=0, \n",
        "                             brightness_range=None, \n",
        "                             shear_range=0, \n",
        "                             zoom_range=0.5, \n",
        "                             channel_shift_range=0, \n",
        "                             fill_mode='nearest', \n",
        "                             cval=0, \n",
        "                             horizontal_flip=False, \n",
        "                             vertical_flip=False)\n",
        "\n",
        "datagen.fit(x_train)\n",
        "history = model.fit(datagen.flow(x_train, y_train, batch_size=batch_size), epochs=epochs, steps_per_epoch=x_train.shape[0]//batch_size)"
      ],
      "metadata": {
        "colab": {
          "base_uri": "https://localhost:8080/"
        },
        "id": "GadoSKC7hVbP",
        "outputId": "1c7b308d-9df6-4839-d35b-a0f6f0a74b32"
      },
      "execution_count": 11,
      "outputs": [
        {
          "output_type": "stream",
          "name": "stdout",
          "text": [
            "x_train is : 785\n",
            "x_val is : 197\n",
            "y_train is : 785\n",
            "y_val is : 197\n",
            "Epoch 1/10\n",
            "24/24 [==============================] - 5s 201ms/step - loss: 0.9270 - accuracy: 0.8659\n",
            "Epoch 2/10\n",
            "24/24 [==============================] - 5s 208ms/step - loss: 0.0370 - accuracy: 0.9947\n",
            "Epoch 3/10\n",
            "24/24 [==============================] - 5s 201ms/step - loss: 0.0222 - accuracy: 0.9987\n",
            "Epoch 4/10\n",
            "24/24 [==============================] - 5s 202ms/step - loss: 2.6527e-04 - accuracy: 1.0000\n",
            "Epoch 5/10\n",
            "24/24 [==============================] - 5s 202ms/step - loss: 0.0173 - accuracy: 0.9987\n",
            "Epoch 6/10\n",
            "24/24 [==============================] - 5s 203ms/step - loss: 0.0189 - accuracy: 0.9987\n",
            "Epoch 7/10\n",
            "24/24 [==============================] - 6s 240ms/step - loss: 0.0109 - accuracy: 0.9987\n",
            "Epoch 8/10\n",
            "24/24 [==============================] - 5s 205ms/step - loss: 0.0152 - accuracy: 0.9987\n",
            "Epoch 9/10\n",
            "24/24 [==============================] - 5s 203ms/step - loss: 0.0096 - accuracy: 0.9987\n",
            "Epoch 10/10\n",
            "24/24 [==============================] - 6s 244ms/step - loss: 0.0160 - accuracy: 0.9987\n"
          ]
        }
      ]
    },
    {
      "cell_type": "code",
      "source": [
        "# THIS IS NOT THE PLACE YOU ARE LOOKING FOOOOR\n",
        "\n",
        "from sklearn.metrics import confusion_matrix\n",
        "import itertools\n",
        "from sklearn.model_selection import train_test_split\n",
        "x_train, x_val, y_train, y_val = train_test_split(x_train, y_train, test_size=0.2, random_state=42)\n",
        "print(f'x_train is : {len(x_train)}')\n",
        "print(f'x_val is : {len(x_val)}')\n",
        "print(f'y_train is : {len(y_train)}')\n",
        "print(f'y_val is : {len(y_val)}')\n",
        "\n",
        "from keras.utils.np_utils import to_categorical\n",
        "from keras.models import Sequential \n",
        "from keras.layers import Dense, Dropout, Flatten, Conv2D, MaxPool2D, Activation\n",
        "from tensorflow.keras.optimizers import Adam\n",
        "from keras.preprocessing.image import ImageDataGenerator\n",
        "from keras.callbacks import ReduceLROnPlateau\n",
        "\n",
        "model = Sequential()\n",
        "model.add(Conv2D(filters=16, kernel_size=(3,3), padding='Same', activation='relu', input_shape=(100,100,3)))\n",
        "model.add(MaxPool2D(pool_size=(2,2)))\n",
        "model.add(Flatten())\n",
        "model.add(Dense(15000, input_shape=(30000,), activation=\"sigmoid\"))\n",
        "model.add(Dense(7500, activation=\"sigmoid\"))\n",
        "model.add(Dense(2, activation=\"softmax\"))\n",
        "\n",
        "optimizer=Adam(learning_rate=0.001)\n",
        "model.compile(optimizer=optimizer, loss='categorical_crossentropy', metrics=['accuracy'])\n",
        "epochs = 10\n",
        "batch_size = 32\n",
        "\n",
        "# обучаем нейросеть\n",
        "H = model.fit(x_train, y_train, validation_data=(x_test, y_test), epochs=epochs, batch_size=32) "
      ],
      "metadata": {
        "colab": {
          "base_uri": "https://localhost:8080/"
        },
        "id": "NzAGizfILz1F",
        "outputId": "d93dfb05-df78-4c00-bb8c-e4cdf8d2ea1f"
      },
      "execution_count": null,
      "outputs": [
        {
          "output_type": "stream",
          "name": "stdout",
          "text": [
            "x_train is : 785\n",
            "x_val is : 197\n",
            "y_train is : 785\n",
            "y_val is : 197\n",
            "Epoch 1/10\n"
          ]
        }
      ]
    }
  ]
}